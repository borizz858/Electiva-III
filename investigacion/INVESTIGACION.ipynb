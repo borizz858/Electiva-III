{
 "cells": [
  {
   "cell_type": "markdown",
   "id": "ff925b55",
   "metadata": {},
   "source": [
    "\n",
    "\n",
    "Celdas de Código en Jupyter Notebook 🐍\n",
    "Un Jupyter Notebook es una herramienta poderosa que organiza el trabajo en unidades llamadas celdas. La más importante para la programación es la celda de código, donde escribes y ejecutas tu código (generalmente Python).\n",
    "\n",
    "Para ejecutar el código dentro de una celda, sitúate en ella y pulsa el botón \"Run\" (Ejecutar) en la barra de herramientas, o usa el atajo de teclado Shift + Enter. Al ejecutarla, el resultado, o salida, se mostrará inmediatamente debajo. A la izquierda de la celda aparecerá In [n]:, indicando que la celda ha sido ejecutada y su orden.\n",
    "\n",
    "A continuación, tienes tres ejemplos diferentes que demuestran la funcionalidad básica y avanzada de estas celdas:\n",
    "\n",
    "1. Interacción y Salida Simple (print())\n",
    "El ejemplo más básico es usar la función print() para mostrar mensajes en la consola. Esto es crucial para la depuración y para mostrar resultados."
   ]
  },
  {
   "cell_type": "code",
   "execution_count": null,
   "id": "b0b4cde1",
   "metadata": {
    "vscode": {
     "languageId": "plaintext"
    }
   },
   "outputs": [],
   "source": [
    "# Ejemplo de impresión de texto\n",
    "nombre = \"Jupyter\"\n",
    "print(f\"¡Bienvenido a {nombre} Notebooks!\")\n",
    "\n",
    "# Ejemplo de cálculo rápido\n",
    "resultado = 45 * 2\n",
    "print(f\"El resultado de la multiplicación es: {resultado}\")"
   ]
  },
  {
   "cell_type": "markdown",
   "id": "9827fccd",
   "metadata": {},
   "source": [
    " Manipulación de Datos con Librerías (Pandas)\n",
    "Una de las grandes ventajas de Jupyter es su capacidad para trabajar con librerías de análisis de datos. Aquí se utiliza Pandas, la librería estándar para la manipulación de datos tabulares, para crear una pequeña tabla (DataFrame)."
   ]
  },
  {
   "cell_type": "code",
   "execution_count": null,
   "id": "445f25d6",
   "metadata": {
    "vscode": {
     "languageId": "plaintext"
    }
   },
   "outputs": [],
   "source": [
    "import pandas as pd # Importamos la librería con su alias común 'pd'\n",
    "\n",
    "# Creamos un diccionario con datos\n",
    "data = {\n",
    "    'Estudiante': ['Ana', 'Beto', 'Carla'],\n",
    "    'Nota': [95, 82, 99],\n",
    "    'Aprobado': [True, True, True]\n",
    "}\n",
    "\n",
    "# Convertimos el diccionario a un DataFrame de Pandas\n",
    "df_estudiantes = pd.DataFrame(data)\n",
    "\n",
    "# Mostramos el DataFrame (Jupyter lo renderiza como una tabla HTML)\n",
    "df_estudiantes"
   ]
  },
  {
   "cell_type": "markdown",
   "id": "c4205917",
   "metadata": {},
   "source": [
    " Visualización de Datos (Matplotlib)\n",
    "Las celdas de código son perfectas para generar gráficos, ya que la visualización aparece justo debajo del código que la generó. Este ejemplo usa Matplotlib, la librería de graficación más popular, para dibujar un sencillo gráfico de barras."
   ]
  },
  {
   "cell_type": "code",
   "execution_count": null,
   "id": "a2b9f9b6",
   "metadata": {
    "vscode": {
     "languageId": "plaintext"
    }
   },
   "outputs": [],
   "source": [
    "import matplotlib.pyplot as plt # Importamos la parte de Matplotlib para graficar\n",
    "\n",
    "# Datos a graficar\n",
    "productos = ['Camisa', 'Pantalón', 'Zapatos']\n",
    "ventas = [150, 80, 120]\n",
    "\n",
    "# Creamos el gráfico de barras\n",
    "plt.figure(figsize=(7, 4))\n",
    "plt.bar(productos, ventas, color=['skyblue', 'orange', 'lightgreen'])\n",
    "plt.title('Ventas por Producto')\n",
    "plt.xlabel('Producto')\n",
    "plt.ylabel('Cantidad Vendida')\n",
    "plt.show() # Muestra el gráfico"
   ]
  },
  {
   "cell_type": "markdown",
   "id": "0569cf0f",
   "metadata": {},
   "source": [
    "                               El Ecosistema del Desarrollo Web 🌐\n",
    "El desarrollo de aplicaciones web modernas se divide en varios componentes clave que trabajan juntos para crear la experiencia digital que vemos. Estos componentes suelen agruparse en Frontend y Backend.\n",
    "\n",
    "1. Frontend: La Cara Visible (El Cliente)\n",
    "El Frontend es todo lo que el usuario ve e interactúa en su navegador (Chrome, Firefox, etc.). Es la capa de presentación.\n",
    "\n",
    "Librerías: Las Librerías son colecciones de código preescrito que facilitan tareas específicas. En el Frontend, una de las más populares es React, una librería de JavaScript que se usa para construir interfaces de usuario interactivas de manera eficiente.\n",
    "\n",
    "Ejemplo: Usas React para definir cómo debe verse un botón y cómo debe cambiar de color cuando pasas el ratón por encima."
   ]
  },
  {
   "cell_type": "markdown",
   "id": "c949352a",
   "metadata": {},
   "source": [
    "                               Backend: El Motor Lógico (El Servidor)\n",
    "El Backend es el \"detrás de escena\". Es el servidor, la aplicación y la Base de Datos que manejan la lógica, la autenticación y el almacenamiento de datos.\n",
    "\n",
    "Frameworks: Los Frameworks son estructuras que proporcionan una base para construir aplicaciones completas, manejando gran parte del código repetitivo. En el Backend, Django (Python) o Express.js (Node.js) son ejemplos comunes.\n",
    "\n",
    "Ejemplo: Usas Express.js para crear la lógica que procesa el formulario de inicio de sesión de un usuario, verifica la contraseña y genera una sesión."
   ]
  },
  {
   "cell_type": "markdown",
   "id": "aaf5c4cf",
   "metadata": {},
   "source": [
    "                        Bases de Datos y Almacenamiento de Datos\n",
    "La Base de Datos es donde se almacena toda la información persistente de una aplicación (datos de usuarios, productos, publicaciones).\n",
    "\n",
    "Ejemplo de Bases de Datos: Puede ser una base de datos relacional como PostgreSQL o no relacional como MongoDB.\n",
    "\n",
    "JSON (JavaScript Object Notation): Es un formato de texto ligero y legible por humanos que se utiliza para el intercambio de datos entre el Frontend, el Backend y, a menudo, las bases de datos no relacionales. Es el formato de datos estándar de la web."
   ]
  },
  {
   "cell_type": "code",
   "execution_count": null,
   "id": "73290bec",
   "metadata": {
    "vscode": {
     "languageId": "plaintext"
    }
   },
   "outputs": [],
   "source": [
    "{\n",
    "  \"usuarioId\": 101,\n",
    "  \"nombre\": \"Ana Pérez\",\n",
    "  \"productos_comprados\": [\"PC Portátil\", \"Mouse\"]\n",
    "}"
   ]
  },
  {
   "cell_type": "markdown",
   "id": "d7f7a980",
   "metadata": {},
   "source": [
    "API: El Puente de Comunicación\n",
    "Una API (Application Programming Interface) actúa como un \"contrato\" o un puente que permite que el Frontend y el Backend se comuniquen. Define cómo solicitar y enviar datos.\n",
    "\n",
    "¿Cómo funciona?: Cuando el Frontend necesita datos (por ejemplo, la lista de productos), envía una solicitud al Backend a través de su API. El Backend consulta la Base de Datos, formatea la respuesta en JSON, y la devuelve al Frontend.\n",
    "\n",
    "Ejemplo del Flujo: El código en tu navegador (Frontend) llama a la API del servidor a través de una URL como https://misitio.com/api/productos. El servidor (Backend) responde enviando un bloque de datos con formato JSON que la librería React interpreta y muestra al usuario."
   ]
  }
 ],
 "metadata": {
  "language_info": {
   "name": "python"
  }
 },
 "nbformat": 4,
 "nbformat_minor": 5
}
